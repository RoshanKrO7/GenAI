{
  "nbformat": 4,
  "nbformat_minor": 0,
  "metadata": {
    "colab": {
      "provenance": [],
      "authorship_tag": "ABX9TyM0HI2pxmMjPRjBLtX5+3y3",
      "include_colab_link": true
    },
    "kernelspec": {
      "name": "python3",
      "display_name": "Python 3"
    },
    "language_info": {
      "name": "python"
    }
  },
  "cells": [
    {
      "cell_type": "markdown",
      "metadata": {
        "id": "view-in-github",
        "colab_type": "text"
      },
      "source": [
        "<a href=\"https://colab.research.google.com/github/RoshanKrO7/GenAI/blob/main/GenAI_1.ipynb\" target=\"_parent\"><img src=\"https://colab.research.google.com/assets/colab-badge.svg\" alt=\"Open In Colab\"/></a>"
      ]
    },
    {
      "cell_type": "code",
      "execution_count": 1,
      "metadata": {
        "colab": {
          "base_uri": "https://localhost:8080/"
        },
        "id": "5KwDgKFfEVj-",
        "outputId": "cd7d2db1-b9da-42cc-fd20-7549e36e8bf8"
      },
      "outputs": [
        {
          "output_type": "stream",
          "name": "stdout",
          "text": [
            "Requirement already satisfied: openai==0.28 in /usr/local/lib/python3.10/dist-packages (0.28.0)\n",
            "Requirement already satisfied: requests>=2.20 in /usr/local/lib/python3.10/dist-packages (from openai==0.28) (2.32.3)\n",
            "Requirement already satisfied: tqdm in /usr/local/lib/python3.10/dist-packages (from openai==0.28) (4.66.5)\n",
            "Requirement already satisfied: aiohttp in /usr/local/lib/python3.10/dist-packages (from openai==0.28) (3.10.5)\n",
            "Requirement already satisfied: charset-normalizer<4,>=2 in /usr/local/lib/python3.10/dist-packages (from requests>=2.20->openai==0.28) (3.3.2)\n",
            "Requirement already satisfied: idna<4,>=2.5 in /usr/local/lib/python3.10/dist-packages (from requests>=2.20->openai==0.28) (3.10)\n",
            "Requirement already satisfied: urllib3<3,>=1.21.1 in /usr/local/lib/python3.10/dist-packages (from requests>=2.20->openai==0.28) (2.2.3)\n",
            "Requirement already satisfied: certifi>=2017.4.17 in /usr/local/lib/python3.10/dist-packages (from requests>=2.20->openai==0.28) (2024.8.30)\n",
            "Requirement already satisfied: aiohappyeyeballs>=2.3.0 in /usr/local/lib/python3.10/dist-packages (from aiohttp->openai==0.28) (2.4.0)\n",
            "Requirement already satisfied: aiosignal>=1.1.2 in /usr/local/lib/python3.10/dist-packages (from aiohttp->openai==0.28) (1.3.1)\n",
            "Requirement already satisfied: attrs>=17.3.0 in /usr/local/lib/python3.10/dist-packages (from aiohttp->openai==0.28) (24.2.0)\n",
            "Requirement already satisfied: frozenlist>=1.1.1 in /usr/local/lib/python3.10/dist-packages (from aiohttp->openai==0.28) (1.4.1)\n",
            "Requirement already satisfied: multidict<7.0,>=4.5 in /usr/local/lib/python3.10/dist-packages (from aiohttp->openai==0.28) (6.1.0)\n",
            "Requirement already satisfied: yarl<2.0,>=1.0 in /usr/local/lib/python3.10/dist-packages (from aiohttp->openai==0.28) (1.11.1)\n",
            "Requirement already satisfied: async-timeout<5.0,>=4.0 in /usr/local/lib/python3.10/dist-packages (from aiohttp->openai==0.28) (4.0.3)\n",
            "Requirement already satisfied: typing-extensions>=4.1.0 in /usr/local/lib/python3.10/dist-packages (from multidict<7.0,>=4.5->aiohttp->openai==0.28) (4.12.2)\n"
          ]
        }
      ],
      "source": [
        "pip install openai==0.28"
      ]
    },
    {
      "cell_type": "code",
      "source": [
        "import openai\n",
        "\n",
        "# Set up your OpenAI API key\n",
        "openai.api_key = 'sk-NOygNmgH1LNmxyNoqyeN_28g2n8xQIjtw8zMuMLcOoT3BlbkFJBbcPiexq0VHgEEDwI44XdeX-0vkd-IS6sfoKqBoj8A'\n",
        "\n",
        "instruction = \"\"\"\n",
        "Summarise the minutes of the meeting given below in 4 bullet points:\n",
        "Car Manufacturing Company\n",
        "Board of Directors Meeting Minutes\n",
        "Agenda:\n",
        "1. Call to Order\n",
        "2. Approval of Previous Meeting Minutes\n",
        "3. CEO's Report\n",
        "4. Financial Report\n",
        "Meeting Minutes:\n",
        "1. Call to Order: - The meeting was called to order by Bharath Thippireddy.\n",
        "2. Approval of Previous Meeting Minutes: - The minutes of the previous board meeting, held on [Date], were reviewed and approved.\n",
        "3. CEO's Report: - Bharath Thippireddy presented an overview of the company's performance, highlighting key\n",
        "achievements and challenges. Key points discussed include:\n",
        "     - Sales figures for the last quarter.\n",
        "     - Progress on cost reduction initiatives.\n",
        "     - Highlights from recent industry events.\n",
        "   - The CEO answered questions from board members.\n",
        "\n",
        "4. Financial Report:\n",
        "   - The Chief Financial Officer ([CFO's Name]) presented the financial report. Key financial metrics\n",
        "discussed include:\n",
        "     - Revenue and profit margins.\n",
        "     - Budget vs. actual expenditure.\n",
        "     - Cash flow analysis.\n",
        "   - The board discussed financial performance and the impact on shareholder value.\n",
        "\"\"\"\n",
        "\n",
        "# Request completion from OpenAI\n",
        "response = openai.ChatCompletion.create(\n",
        "    model=\"gpt-3.5-turbo\",\n",
        "    messages=[\n",
        "        {\"role\": \"user\", \"content\": instruction},\n",
        "    ],\n",
        "    temperature=1,\n",
        "    max_tokens=256,\n",
        "    top_p=1,\n",
        "    frequency_penalty=0,\n",
        "    presence_penalty=0\n",
        ")\n",
        "\n",
        "# Print the response\n",
        "print(response['choices'][0]['message']['content'])\n"
      ],
      "metadata": {
        "colab": {
          "base_uri": "https://localhost:8080/"
        },
        "id": "fMOFJCAqFJKY",
        "outputId": "54540935-a0d6-4b1c-d384-b9f867200bc7"
      },
      "execution_count": 2,
      "outputs": [
        {
          "output_type": "stream",
          "name": "stdout",
          "text": [
            "- Meeting called to order by Bharath Thippireddy\n",
            "- Previous meeting minutes were reviewed and approved\n",
            "- CEO presented company's performance, sales figures, cost reduction initiatives, and industry event highlights\n",
            "- CFO presented financial report including revenue, profit margins, budget vs. actual expenditure, and cash flow analysis, discussed financial performance and impact on shareholder value\n"
          ]
        }
      ]
    }
  ]
}